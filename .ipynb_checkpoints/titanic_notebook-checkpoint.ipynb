{
 "cells": [
  {
   "cell_type": "code",
   "execution_count": 2,
   "metadata": {
    "collapsed": false
   },
   "outputs": [],
   "source": [
    "# data manipulation\n",
    "import pandas as pd\n",
    "import numpy as np\n",
    "import re\n",
    "\n",
    "# plotting\n",
    "%matplotlib inline\n",
    "import matplotlib.pyplot as plt\n",
    "plt.style.use('ggplot')\n",
    "import seaborn as sns\n",
    "from ggplot import *\n",
    "\n",
    "# machine learning\n",
    "from sklearn.tree import DecisionTreeClassifier\n",
    "from sklearn.ensemble import RandomForestClassifier\n",
    "from sklearn.linear_model import LinearRegression\n",
    "from sklearn import cross_validation"
   ]
  },
  {
   "cell_type": "markdown",
   "metadata": {},
   "source": [
    "####Missing Age Values (Linear Regression)"
   ]
  },
  {
   "cell_type": "code",
   "execution_count": 46,
   "metadata": {
    "collapsed": true
   },
   "outputs": [],
   "source": [
    "train = pd.read_csv('train.csv')"
   ]
  },
  {
   "cell_type": "code",
   "execution_count": 41,
   "metadata": {
    "collapsed": false
   },
   "outputs": [
    {
     "name": "stdout",
     "output_type": "stream",
     "text": [
      "score: 0.243062591385\n"
     ]
    }
   ],
   "source": [
    "X_train = train.ix[train['Age'].notnull(), ['Age', 'Pclass', 'SibSp', 'Parch', 'Fare', 'Sex']]\n",
    "X_train['Sex'] = X_train['Sex'].factorize()[0]\n",
    "X_train, X_test, y_train, y_test = cross_validation.train_test_split(X_train.ix[:, 1:], X_train.ix[:, 0], test_size=0.2)\n",
    "age_model = LinearRegression()\n",
    "age_model.fit(X_train, y_train)\n",
    "print 'score: %s' % age_model.score(X_train, y_train)\n",
    "prediction = pd.DataFrame({\n",
    "        'actual_age': y_test,\n",
    "        'predicted_age': age_model.predict(X_test)\n",
    "})"
   ]
  },
  {
   "cell_type": "code",
   "execution_count": 60,
   "metadata": {
    "collapsed": false
   },
   "outputs": [
    {
     "data": {
      "text/plain": [
       "0.82122905027932958"
      ]
     },
     "execution_count": 60,
     "metadata": {},
     "output_type": "execute_result"
    }
   ],
   "source": [
    "class_sex_fare = train.groupby(['Pclass', 'Sex'])['Fare'].mean()\n",
    "def get_fare(row):\n",
    "    pclass, sex, fare = row\n",
    "    if pd.isnull(fare):\n",
    "        return class_sex_fare[pclass][sex]\n",
    "    return fare\n",
    "\n",
    "def preprocess_df(df):\n",
    "    \"\"\"Prepares dataset for prediction\"\"\"\n",
    "    \n",
    "    # fill missing values\n",
    "    df['SexFill'] = df['Sex']\n",
    "    df['FareFill'] = df[['Pclass', 'SexFill', 'Fare']].apply(get_fare, axis=1)\n",
    "    df['AgeIsNull'] = df['Age'].isnull().astype(int)\n",
    "    df['AgeFill'] = df['Age']\n",
    "    if df['AgeFill'].isnull().any():\n",
    "        age_data = df.ix[df['AgeFill'].isnull(), ['Pclass', 'SibSp', 'Parch', 'Fare', 'Sex']]\n",
    "        age_data['Sex'] = age_data['Sex'].factorize()[0]\n",
    "        age_predictions = age_model.predict(age_data)\n",
    "        df.ix[df['AgeFill'].isnull(), 'AgeFill'] = age_predictions\n",
    "    \n",
    "    # categorical vars\n",
    "    dummies_test_sex = pd.get_dummies(df['SexFill'])\n",
    "    \n",
    "    # remove unnecessary columns\n",
    "    df = df[['Pclass', 'FareFill', 'AgeFill', 'AgeIsNull']].join(dummies_test_sex)\n",
    "    \n",
    "    return df\n",
    "# fit\n",
    "X_train, X_test, y_train, y_test = cross_validation.train_test_split(train.ix[:, 1:], train['Survived'],\n",
    "                                                                     test_size=0.2, random_state=42)\n",
    "X_train = preprocess_df(X_train)\n",
    "model = RandomForestClassifier(n_estimators=100)\n",
    "model.fit(X_train, y_train)\n",
    "# validate\n",
    "X_test = preprocess_df(X_test)\n",
    "model.score(X_test, y_test)"
   ]
  },
  {
   "cell_type": "code",
   "execution_count": 48,
   "metadata": {
    "collapsed": false
   },
   "outputs": [
    {
     "data": {
      "text/plain": [
       "[('FareFill', 0.27248105734936906),\n",
       " ('AgeFill', 0.26513912098743331),\n",
       " ('male', 0.24740697231636158),\n",
       " ('Pclass', 0.10879424091607097),\n",
       " ('female', 0.088458591460187461),\n",
       " ('AgeIsNull', 0.017720016970577689)]"
      ]
     },
     "execution_count": 48,
     "metadata": {},
     "output_type": "execute_result"
    }
   ],
   "source": [
    "sorted(zip(X_train.columns, model.feature_importances_), key=lambda x: x[1], reverse=True)"
   ]
  },
  {
   "cell_type": "markdown",
   "metadata": {
    "collapsed": false
   },
   "source": [
    "#### Predict"
   ]
  },
  {
   "cell_type": "code",
   "execution_count": 61,
   "metadata": {
    "collapsed": false
   },
   "outputs": [],
   "source": [
    "test = pd.read_csv('test.csv')\n",
    "test_data = preprocess_df(test)\n",
    "predictions = model.predict(test_data)\n",
    "test['Survived'] = predictions\n",
    "test[['PassengerId', 'Survived']].to_csv('predictions.csv', index=False)"
   ]
  },
  {
   "cell_type": "code",
   "execution_count": null,
   "metadata": {
    "collapsed": true
   },
   "outputs": [],
   "source": []
  }
 ],
 "metadata": {
  "kernelspec": {
   "display_name": "Python 2",
   "language": "python",
   "name": "python2"
  },
  "language_info": {
   "codemirror_mode": {
    "name": "ipython",
    "version": 2
   },
   "file_extension": ".py",
   "mimetype": "text/x-python",
   "name": "python",
   "nbconvert_exporter": "python",
   "pygments_lexer": "ipython2",
   "version": "2.7.10"
  }
 },
 "nbformat": 4,
 "nbformat_minor": 0
}
